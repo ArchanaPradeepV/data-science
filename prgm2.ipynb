{
 "cells": [
  {
   "cell_type": "code",
   "execution_count": 5,
   "id": "e7f8c55a",
   "metadata": {},
   "outputs": [
    {
     "name": "stdout",
     "output_type": "stream",
     "text": [
      "Largest element is: 99\n"
     ]
    }
   ],
   "source": [
    "#largest number\n",
    "list1 = [10, 20, 4, 45, 99]\n",
    "list1.sort()\n",
    "print(\"Largest element is:\", list1[-1])"
   ]
  },
  {
   "cell_type": "code",
   "execution_count": 8,
   "id": "df93a026",
   "metadata": {},
   "outputs": [
    {
     "name": "stdout",
     "output_type": "stream",
     "text": [
      "The original list is : [10, 20, 4, 45, 99, 99]\n",
      "The list after removing duplicates : [99, 4, 10, 45, 20]\n"
     ]
    }
   ],
   "source": [
    "#removing duplicate\n",
    "l1 = [10, 20, 4, 45, 99, 99]\n",
    "print (\"The original list is : \" + str(l1))\n",
    "l1 = list(set(l1))\n",
    "print (\"The list after removing duplicates : \"  + str(l1))"
   ]
  },
  {
   "cell_type": "code",
   "execution_count": 1,
   "id": "5791a18e",
   "metadata": {},
   "outputs": [
    {
     "name": "stdout",
     "output_type": "stream",
     "text": [
      "no of elements in dictonary:3\n",
      "name:diya\n",
      "age:22\n",
      "name:archana\n",
      "age:21\n",
      "name:risvana\n",
      "age:21\n",
      "first dict= {'diya': '22', 'archana': '21', 'risvana': '21'}\n",
      "no of elements in dictonary:2\n",
      "name:hudha\n",
      "age:21\n",
      "name:afnan\n",
      "age:25\n",
      "name:amala\n",
      "age:21\n",
      "second dict= {'hudha': '21', 'afnan': '25', 'amala': '21'}\n",
      "merged dictionary: {'afnan': '25', 'amala': '21', 'archana': '21', 'diya': '22', 'hudha': '21', 'risvana': '21'}\n"
     ]
    }
   ],
   "source": [
    "#merge dict\n",
    "def Merge(d2,d1):\n",
    "    upd ={**d2,**d1}\n",
    "    return upd\n",
    "d1={}\n",
    "n=int(input(\"no of elements in dictonary:\"))\n",
    "for i in range(n):\n",
    "    name=input(\"name:\")\n",
    "    age=input(\"age:\")\n",
    "    d1[name]=age\n",
    "print(\"first dict=\",d1)\n",
    "d2={}\n",
    "m=int(input(\"no of elements in dictonary:\"))\n",
    "for i in range(n):\n",
    "    name=input(\"name:\")\n",
    "    age=input(\"age:\")\n",
    "    d2[name]=age\n",
    "print(\"second dict=\",d2)\n",
    "d3=Merge(d2,d1)\n",
    "l=list(d3.items())\n",
    "l.sort()\n",
    "d4=dict(l)\n",
    "print(\"merged dictionary:\",d4)"
   ]
  },
  {
   "cell_type": "code",
   "execution_count": 3,
   "id": "dd2afcef",
   "metadata": {},
   "outputs": [
    {
     "name": "stdout",
     "output_type": "stream",
     "text": [
      "True\n",
      "False\n"
     ]
    }
   ],
   "source": [
    "#common element\n",
    "def common_data(l1, l2):\n",
    "    result = False\n",
    "    for x in l1:\n",
    "        for y in l2:\n",
    "            if x == y:\n",
    "                result = True\n",
    "                return result  \n",
    "    return result\n",
    "a = [1, 2, 3, 4, 5]\n",
    "b = [5, 6, 7, 8, 9]\n",
    "print(common_data(a, b))\n",
    "a = [1, 2, 3, 4, 5]\n",
    "b = [6, 7, 8, 9]\n",
    "print(common_data(a, b))"
   ]
  },
  {
   "cell_type": "code",
   "execution_count": null,
   "id": "d97d6da1",
   "metadata": {},
   "outputs": [],
   "source": []
  }
 ],
 "metadata": {
  "kernelspec": {
   "display_name": "Python 3 (ipykernel)",
   "language": "python",
   "name": "python3"
  },
  "language_info": {
   "codemirror_mode": {
    "name": "ipython",
    "version": 3
   },
   "file_extension": ".py",
   "mimetype": "text/x-python",
   "name": "python",
   "nbconvert_exporter": "python",
   "pygments_lexer": "ipython3",
   "version": "3.10.12"
  }
 },
 "nbformat": 4,
 "nbformat_minor": 5
}
