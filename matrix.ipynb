{
 "cells": [
  {
   "cell_type": "code",
   "execution_count": 3,
   "id": "305d524a",
   "metadata": {},
   "outputs": [
    {
     "name": "stdout",
     "output_type": "stream",
     "text": [
      "Addition\n",
      "[[ 6  8]\n",
      " [10 12]]\n",
      "Substraction\n",
      "[[-4 -4]\n",
      " [-4 -4]]\n",
      "Elementary multiplication\n",
      "[[ 5 12]\n",
      " [21 32]]\n",
      "Matrix multiplication\n",
      "[[19 22]\n",
      " [43 50]]\n",
      "Transpose\n",
      "[[1 3]\n",
      " [2 4]]\n",
      "orginal matrix:\n",
      "[[1 2 3]\n",
      " [4 5 6]\n",
      " [7 8 9]]\n",
      "\n",
      " reconstructed matrix(with reduced diamensions):\n",
      "[[1. 2. 3.]\n",
      " [4. 5. 6.]\n",
      " [7. 8. 9.]]\n"
     ]
    }
   ],
   "source": [
    "#matrix\n",
    "import numpy as np\n",
    "a=np.array([[1,2],[3,4]])\n",
    "b=np.array([[5,6],[7,8]])\n",
    "c=a+b\n",
    "d=a-b\n",
    "e=a*b\n",
    "f=np.dot(a,b)\n",
    "t=a.T\n",
    "print(\"Addition\")\n",
    "print(c)\n",
    "print(\"Substraction\")\n",
    "print(d)\n",
    "print(\"Elementary multiplication\")\n",
    "print(e)\n",
    "print(\"Matrix multiplication\")\n",
    "print(f)\n",
    "print(\"Transpose\")\n",
    "print(t)\n",
    "\n",
    "\n",
    "import numpy as np\n",
    "X=np.array([[1,2,3],[4,5,6],[7,8,9]])\n",
    "U,S,VT=np.linalg.svd(X)\n",
    "#choose no.of components\n",
    "n_components=2\n",
    "#reconstruct matrix\n",
    "X_reconstructed=np.dot(U[:,:n_components],np.dot(np.diag(S[:n_components]),VT[:n_components,:]))\n",
    "print(\"orginal matrix:\")\n",
    "print(X)\n",
    "print(\"\\n reconstructed matrix(with reduced diamensions):\")\n",
    "print(X_reconstructed)"
   ]
  },
  {
   "cell_type": "code",
   "execution_count": null,
   "id": "ad4dba8a",
   "metadata": {},
   "outputs": [],
   "source": []
  }
 ],
 "metadata": {
  "kernelspec": {
   "display_name": "Python 3 (ipykernel)",
   "language": "python",
   "name": "python3"
  },
  "language_info": {
   "codemirror_mode": {
    "name": "ipython",
    "version": 3
   },
   "file_extension": ".py",
   "mimetype": "text/x-python",
   "name": "python",
   "nbconvert_exporter": "python",
   "pygments_lexer": "ipython3",
   "version": "3.10.12"
  }
 },
 "nbformat": 4,
 "nbformat_minor": 5
}
