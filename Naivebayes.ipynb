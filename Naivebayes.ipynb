{
 "cells": [
  {
   "cell_type": "code",
   "execution_count": 9,
   "id": "7a3accb7",
   "metadata": {},
   "outputs": [
    {
     "name": "stdout",
     "output_type": "stream",
     "text": [
      "Accuracy : 100.00%\n"
     ]
    }
   ],
   "source": [
    "import numpy as np\n",
    "from sklearn import datasets\n",
    "from sklearn.model_selection import train_test_split\n",
    "from sklearn.naive_bayes import GaussianNB\n",
    "from sklearn.metrics import accuracy_score \n",
    "\n",
    "iris=datasets.load_iris()\n",
    "X = iris.data\n",
    "y = iris.target\n",
    "\n",
    "X_train, X_test, y_train, y_test = train_test_split(X, y, test_size=0.2, random_state=42)\n",
    "\n",
    "nb_classifier=GaussianNB()\n",
    "\n",
    "nb_classifier.fit(X_train, y_train)\n",
    "\n",
    "y_pred = nb_classifier.predict(X_test)\n",
    "\n",
    "accuracy = accuracy_score(y_test, y_pred)\n",
    "\n",
    "print(f\"Accuracy : {accuracy * 100:.2f}%\")\n"
   ]
  },
  {
   "cell_type": "code",
   "execution_count": 10,
   "id": "56860245",
   "metadata": {},
   "outputs": [
    {
     "data": {
      "image/png": "[encoded data removed]",
      "text/plain": [
       "<Figure size 432x288 with 1 Axes>"
      ]
     },
     "metadata": {
      "needs_background": "light"
     },
     "output_type": "display_data"
    }
   ],
   "source": [
    "import numpy as np\n",
    "import matplotlib.pyplot as plt\n",
    "from sklearn.naive_bayes import GaussianNB\n",
    "\n",
    "# Sample data\n",
    "x = np.array([1, 2, 3, 4, 5])\n",
    "y = np.array([1, 4, 12, 16, 25])\n",
    "classes = np.array([0, 0, 1, 1, 0])  \n",
    "\n",
    "# Combine x and y into a feature matrix\n",
    "X_train = np.column_stack((x, y))\n",
    "\n",
    "# Initialize the Gaussian Naive Bayes classifier\n",
    "gnb = GaussianNB()\n",
    "\n",
    "# Fit the model\n",
    "gnb.fit(X_train, classes)\n",
    "\n",
    "# New data point\n",
    "new_x = 3\n",
    "new_y = 10\n",
    "new_point = np.array([[new_x, new_y]])\n",
    "                                                  \n",
    "# Predict the class for the new point\n",
    "prediction = gnb.predict(new_point)\n",
    "\n",
    "# Define colors for different classes\n",
    "class_colors = {0: 'blue', 1: 'red'}\n",
    "\n",
    "# Plot the training data\n",
    "plt.scatter(x, y, c=[class_colors[c] for c in classes], label='Training Data', edgecolor='k')\n",
    "\n",
    "# Plot the new data point\n",
    "plt.scatter(new_x, new_y, c=class_colors[prediction[0]], marker='o', s=200, edgecolor='k', label='New Point')\n",
    "\n",
    "# Add text annotation for the new point\n",
    "plt.text(x=new_x-1.0, y=new_y-0.9, s=f\"new point, class: {prediction[0]}\", fontsize=20)\n",
    "\n",
    "# Set labels and legend\n",
    "plt.xlabel('x')\n",
    "plt.ylabel('y')\n",
    "plt.legend()\n",
    "plt.show()\n"
   ]
  },
  {
   "cell_type": "code",
   "execution_count": null,
   "id": "fdd5dc72",
   "metadata": {},
   "outputs": [],
   "source": []
  },
  {
   "cell_type": "code",
   "execution_count": null,
   "id": "f41407a1",
   "metadata": {},
   "outputs": [],
   "source": []
  }
 ],
 "metadata": {
  "kernelspec": {
   "display_name": "Python 3 (ipykernel)",
   "language": "python",
   "name": "python3"
  },
  "language_info": {
   "codemirror_mode": {
    "name": "ipython",
    "version": 3
   },
   "file_extension": ".py",
   "mimetype": "text/x-python",
   "name": "python",
   "nbconvert_exporter": "python",
   "pygments_lexer": "ipython3",
   "version": "3.10.12"
  }
 },
 "nbformat": 4,
 "nbformat_minor": 5
}
