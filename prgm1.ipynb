{
 "cells": [
  {
   "cell_type": "code",
   "execution_count": null,
   "id": "3b7195c6",
   "metadata": {},
   "outputs": [
    {
     "name": "stdout",
     "output_type": "stream",
     "text": [
      "Enter a number:5\n",
      "enter a second number:10\n",
      "1.sum\n",
      "2.subtract \n",
      "3.multiply\n",
      "4.divide\n",
      "\n",
      "enter yout choice:1\n",
      "\n",
      "sum =  15\n",
      "1.sum\n",
      "2.subtract \n",
      "3.multiply\n",
      "4.divide\n",
      "\n",
      "enter yout choice:2\n",
      "difference =  -5\n",
      "1.sum\n",
      "2.subtract \n",
      "3.multiply\n",
      "4.divide\n",
      "\n",
      "enter yout choice:3\n",
      "multiplication =  50\n",
      "1.sum\n",
      "2.subtract \n",
      "3.multiply\n",
      "4.divide\n",
      "\n",
      "enter yout choice:4\n",
      "division =  0.5\n",
      "1.sum\n",
      "2.subtract \n",
      "3.multiply\n",
      "4.divide\n",
      "\n"
     ]
    }
   ],
   "source": [
    "# arithmetic calculations\n",
    "m=int(input(\"Enter a number:\"))\n",
    "n=int(input(\"enter a second number:\"))\n",
    "while(1):\n",
    "    print(\"1.sum\\n2.subtract \\n3.multiply\\n4.divide\\n\")\n",
    "    ch=int(input(\"enter yout choice:\"))\n",
    "    if (ch==1):\n",
    "        print(\"\\nsum = \",m+n)\n",
    "    elif(ch==2):\n",
    "        print(\"difference = \",m-n)\n",
    "    elif(ch==3):\n",
    "        print(\"multiplication = \",m*n)\n",
    "    else:\n",
    "        print(\"division = \",m/n)"
   ]
  },
  {
   "cell_type": "code",
   "execution_count": 25,
   "id": "36036ba6",
   "metadata": {},
   "outputs": [
    {
     "name": "stdout",
     "output_type": "stream",
     "text": [
      "enter the first string:ARCHANA\n",
      "enter the second string:pradeep\n",
      "\n",
      " LENGTH OF STRINGS\n",
      "length of string= 7\n",
      "length of string= 7\n",
      "\n",
      "UPPERCASE & LOWERCASE\n",
      "lowercase= archana\n",
      "lowercase= PRADEEP\n",
      "\n",
      "CONCATANATION\n",
      "ARCHANA pradeep\n",
      "\n",
      "CHARACTER EXTRACTION\n",
      "character at 3rd position= H\n",
      "slicing of first string= CH\n",
      "\n",
      "string replace\n",
      "repalce hello with goodbye: Good Bye World\n",
      "\n",
      "boolean\n",
      "AND:    False\n",
      "OR: True\n",
      "NOT: False\n"
     ]
    }
   ],
   "source": [
    "# string\n",
    "a=input(\"enter the first string:\")\n",
    "b=input(\"enter the second string:\")\n",
    "print(\"\\n LENGTH OF STRINGS\")\n",
    "print(\"length of string=\",len(a))\n",
    "print(\"length of string=\",len(b))\n",
    "print(\"\\nUPPERCASE & LOWERCASE\")\n",
    "print(\"lowercase=\",a.lower())\n",
    "print(\"lowercase=\",b.upper())\n",
    "print(\"\\nCONCATANATION\")\n",
    "c=a+\" \"+b\n",
    "print(c)\n",
    "print(\"\\nCHARACTER EXTRACTION\")\n",
    "print(\"character at 3rd position=\",a[3])\n",
    "print(\"slicing of first string=\",a[2:4])\n",
    "print(\"\\nstring replace\")\n",
    "s= \"Hello World\"\n",
    "new= s.replace(\"Hello\", \"Good Bye\")\n",
    "print(\"repalce hello with goodbye:\",new)\n",
    "print(\"\\nboolean\")\n",
    "p=True\n",
    "q=False\n",
    "print(\"AND:   \",p and q)\n",
    "print(\"OR:\",p or q)\n",
    "print(\"NOT:\",not p)\n"
   ]
  },
  {
   "cell_type": "code",
   "execution_count": 10,
   "id": "3c870757",
   "metadata": {},
   "outputs": [
    {
     "name": "stdout",
     "output_type": "stream",
     "text": [
      "enter the colors :red,blue,orange\n",
      "first color is: red\n",
      "last color is: orange\n"
     ]
    }
   ],
   "source": [
    "#list\n",
    "n=input(\"enter the colors :\")\n",
    "p=n.split(\",\")\n",
    "print(\"first color is:\",p[0])\n",
    "print(\"last color is:\",p[-1])"
   ]
  },
  {
   "cell_type": "code",
   "execution_count": 1,
   "id": "53135d34",
   "metadata": {},
   "outputs": [
    {
     "name": "stdout",
     "output_type": "stream",
     "text": [
      "name:archana\n",
      "age:21\n",
      "name:yadu\n",
      "age:22\n",
      "{'archana': '21', 'yadu': '22'}\n",
      "[('archana', '21'), ('yadu', '22')]\n"
     ]
    }
   ],
   "source": [
    "#dictionary and loop\n",
    "a={}\n",
    "for i in range(2):\n",
    "    name=input(\"name:\")\n",
    "    age=input(\"age:\")\n",
    "    \n",
    "    a[name]=age\n",
    "print(a)\n",
    "l=list(a.items())\n",
    "l.sort()\n",
    "print(l)"
   ]
  },
  {
   "cell_type": "code",
   "execution_count": 20,
   "id": "e27362d6",
   "metadata": {},
   "outputs": [
    {
     "name": "stdout",
     "output_type": "stream",
     "text": [
      "{'banana', 'apple', 'cherry'}\n"
     ]
    }
   ],
   "source": [
    "#set\n",
    "set = {\"apple\", \"banana\", \"cherry\"}\n",
    "print(set)"
   ]
  },
  {
   "cell_type": "code",
   "execution_count": 15,
   "id": "e864da81",
   "metadata": {},
   "outputs": [
    {
     "name": "stdout",
     "output_type": "stream",
     "text": [
      "Abinand MCA\n",
      "Afnan MCA\n",
      "Akash MCA\n"
     ]
    }
   ],
   "source": [
    "#function\n",
    "def my_function(fname):\n",
    "  print(fname + \" MCA\")\n",
    "\n",
    "my_function(\"Abinand\")\n",
    "my_function(\"Afnan\")\n",
    "my_function(\"Akash\")"
   ]
  },
  {
   "cell_type": "code",
   "execution_count": null,
   "id": "a6e65e91",
   "metadata": {},
   "outputs": [],
   "source": []
  }
 ],
 "metadata": {
  "kernelspec": {
   "display_name": "Python 3 (ipykernel)",
   "language": "python",
   "name": "python3"
  },
  "language_info": {
   "codemirror_mode": {
    "name": "ipython",
    "version": 3
   },
   "file_extension": ".py",
   "mimetype": "text/x-python",
   "name": "python",
   "nbconvert_exporter": "python",
   "pygments_lexer": "ipython3",
   "version": "3.10.12"
  }
 },
 "nbformat": 4,
 "nbformat_minor": 5
}
